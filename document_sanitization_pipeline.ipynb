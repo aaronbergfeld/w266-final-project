{
  "nbformat": 4,
  "nbformat_minor": 0,
  "metadata": {
    "colab": {
      "provenance": [],
      "gpuType": "A100"
    },
    "kernelspec": {
      "name": "python3",
      "display_name": "Python 3"
    },
    "language_info": {
      "name": "python"
    },
    "widgets": {
      "application/vnd.jupyter.widget-state+json": {
        "525840899821452f815884c3ff2a68e1": {
          "model_module": "@jupyter-widgets/controls",
          "model_name": "HBoxModel",
          "model_module_version": "1.5.0",
          "state": {
            "_dom_classes": [],
            "_model_module": "@jupyter-widgets/controls",
            "_model_module_version": "1.5.0",
            "_model_name": "HBoxModel",
            "_view_count": null,
            "_view_module": "@jupyter-widgets/controls",
            "_view_module_version": "1.5.0",
            "_view_name": "HBoxView",
            "box_style": "",
            "children": [
              "IPY_MODEL_714ca73af3694975ab9b4eb8450978c0",
              "IPY_MODEL_8eaa5e390673497abe55798f4dd2da8b",
              "IPY_MODEL_9ba4cdbc605441cbb51ec2773ea93b11"
            ],
            "layout": "IPY_MODEL_c5d0f1bcb8694bfcb7ede55fd2d8906c"
          }
        },
        "714ca73af3694975ab9b4eb8450978c0": {
          "model_module": "@jupyter-widgets/controls",
          "model_name": "HTMLModel",
          "model_module_version": "1.5.0",
          "state": {
            "_dom_classes": [],
            "_model_module": "@jupyter-widgets/controls",
            "_model_module_version": "1.5.0",
            "_model_name": "HTMLModel",
            "_view_count": null,
            "_view_module": "@jupyter-widgets/controls",
            "_view_module_version": "1.5.0",
            "_view_name": "HTMLView",
            "description": "",
            "description_tooltip": null,
            "layout": "IPY_MODEL_a4584c91a8d14665959b52da1da405d6",
            "placeholder": "​",
            "style": "IPY_MODEL_2638225477b14cb3adb57b568f83e603",
            "value": "Loading checkpoint shards: 100%"
          }
        },
        "8eaa5e390673497abe55798f4dd2da8b": {
          "model_module": "@jupyter-widgets/controls",
          "model_name": "FloatProgressModel",
          "model_module_version": "1.5.0",
          "state": {
            "_dom_classes": [],
            "_model_module": "@jupyter-widgets/controls",
            "_model_module_version": "1.5.0",
            "_model_name": "FloatProgressModel",
            "_view_count": null,
            "_view_module": "@jupyter-widgets/controls",
            "_view_module_version": "1.5.0",
            "_view_name": "ProgressView",
            "bar_style": "success",
            "description": "",
            "description_tooltip": null,
            "layout": "IPY_MODEL_f840e850813e4d32833d6aab1c803225",
            "max": 4,
            "min": 0,
            "orientation": "horizontal",
            "style": "IPY_MODEL_a3e6c426373442dab1392b3c52cb9c5d",
            "value": 4
          }
        },
        "9ba4cdbc605441cbb51ec2773ea93b11": {
          "model_module": "@jupyter-widgets/controls",
          "model_name": "HTMLModel",
          "model_module_version": "1.5.0",
          "state": {
            "_dom_classes": [],
            "_model_module": "@jupyter-widgets/controls",
            "_model_module_version": "1.5.0",
            "_model_name": "HTMLModel",
            "_view_count": null,
            "_view_module": "@jupyter-widgets/controls",
            "_view_module_version": "1.5.0",
            "_view_name": "HTMLView",
            "description": "",
            "description_tooltip": null,
            "layout": "IPY_MODEL_ab1fa5e0802e472a844dc33b502a097c",
            "placeholder": "​",
            "style": "IPY_MODEL_244b87f6e6c24091aa12ad9791b560d0",
            "value": " 4/4 [00:06&lt;00:00,  1.45s/it]"
          }
        },
        "c5d0f1bcb8694bfcb7ede55fd2d8906c": {
          "model_module": "@jupyter-widgets/base",
          "model_name": "LayoutModel",
          "model_module_version": "1.2.0",
          "state": {
            "_model_module": "@jupyter-widgets/base",
            "_model_module_version": "1.2.0",
            "_model_name": "LayoutModel",
            "_view_count": null,
            "_view_module": "@jupyter-widgets/base",
            "_view_module_version": "1.2.0",
            "_view_name": "LayoutView",
            "align_content": null,
            "align_items": null,
            "align_self": null,
            "border": null,
            "bottom": null,
            "display": null,
            "flex": null,
            "flex_flow": null,
            "grid_area": null,
            "grid_auto_columns": null,
            "grid_auto_flow": null,
            "grid_auto_rows": null,
            "grid_column": null,
            "grid_gap": null,
            "grid_row": null,
            "grid_template_areas": null,
            "grid_template_columns": null,
            "grid_template_rows": null,
            "height": null,
            "justify_content": null,
            "justify_items": null,
            "left": null,
            "margin": null,
            "max_height": null,
            "max_width": null,
            "min_height": null,
            "min_width": null,
            "object_fit": null,
            "object_position": null,
            "order": null,
            "overflow": null,
            "overflow_x": null,
            "overflow_y": null,
            "padding": null,
            "right": null,
            "top": null,
            "visibility": null,
            "width": null
          }
        },
        "a4584c91a8d14665959b52da1da405d6": {
          "model_module": "@jupyter-widgets/base",
          "model_name": "LayoutModel",
          "model_module_version": "1.2.0",
          "state": {
            "_model_module": "@jupyter-widgets/base",
            "_model_module_version": "1.2.0",
            "_model_name": "LayoutModel",
            "_view_count": null,
            "_view_module": "@jupyter-widgets/base",
            "_view_module_version": "1.2.0",
            "_view_name": "LayoutView",
            "align_content": null,
            "align_items": null,
            "align_self": null,
            "border": null,
            "bottom": null,
            "display": null,
            "flex": null,
            "flex_flow": null,
            "grid_area": null,
            "grid_auto_columns": null,
            "grid_auto_flow": null,
            "grid_auto_rows": null,
            "grid_column": null,
            "grid_gap": null,
            "grid_row": null,
            "grid_template_areas": null,
            "grid_template_columns": null,
            "grid_template_rows": null,
            "height": null,
            "justify_content": null,
            "justify_items": null,
            "left": null,
            "margin": null,
            "max_height": null,
            "max_width": null,
            "min_height": null,
            "min_width": null,
            "object_fit": null,
            "object_position": null,
            "order": null,
            "overflow": null,
            "overflow_x": null,
            "overflow_y": null,
            "padding": null,
            "right": null,
            "top": null,
            "visibility": null,
            "width": null
          }
        },
        "2638225477b14cb3adb57b568f83e603": {
          "model_module": "@jupyter-widgets/controls",
          "model_name": "DescriptionStyleModel",
          "model_module_version": "1.5.0",
          "state": {
            "_model_module": "@jupyter-widgets/controls",
            "_model_module_version": "1.5.0",
            "_model_name": "DescriptionStyleModel",
            "_view_count": null,
            "_view_module": "@jupyter-widgets/base",
            "_view_module_version": "1.2.0",
            "_view_name": "StyleView",
            "description_width": ""
          }
        },
        "f840e850813e4d32833d6aab1c803225": {
          "model_module": "@jupyter-widgets/base",
          "model_name": "LayoutModel",
          "model_module_version": "1.2.0",
          "state": {
            "_model_module": "@jupyter-widgets/base",
            "_model_module_version": "1.2.0",
            "_model_name": "LayoutModel",
            "_view_count": null,
            "_view_module": "@jupyter-widgets/base",
            "_view_module_version": "1.2.0",
            "_view_name": "LayoutView",
            "align_content": null,
            "align_items": null,
            "align_self": null,
            "border": null,
            "bottom": null,
            "display": null,
            "flex": null,
            "flex_flow": null,
            "grid_area": null,
            "grid_auto_columns": null,
            "grid_auto_flow": null,
            "grid_auto_rows": null,
            "grid_column": null,
            "grid_gap": null,
            "grid_row": null,
            "grid_template_areas": null,
            "grid_template_columns": null,
            "grid_template_rows": null,
            "height": null,
            "justify_content": null,
            "justify_items": null,
            "left": null,
            "margin": null,
            "max_height": null,
            "max_width": null,
            "min_height": null,
            "min_width": null,
            "object_fit": null,
            "object_position": null,
            "order": null,
            "overflow": null,
            "overflow_x": null,
            "overflow_y": null,
            "padding": null,
            "right": null,
            "top": null,
            "visibility": null,
            "width": null
          }
        },
        "a3e6c426373442dab1392b3c52cb9c5d": {
          "model_module": "@jupyter-widgets/controls",
          "model_name": "ProgressStyleModel",
          "model_module_version": "1.5.0",
          "state": {
            "_model_module": "@jupyter-widgets/controls",
            "_model_module_version": "1.5.0",
            "_model_name": "ProgressStyleModel",
            "_view_count": null,
            "_view_module": "@jupyter-widgets/base",
            "_view_module_version": "1.2.0",
            "_view_name": "StyleView",
            "bar_color": null,
            "description_width": ""
          }
        },
        "ab1fa5e0802e472a844dc33b502a097c": {
          "model_module": "@jupyter-widgets/base",
          "model_name": "LayoutModel",
          "model_module_version": "1.2.0",
          "state": {
            "_model_module": "@jupyter-widgets/base",
            "_model_module_version": "1.2.0",
            "_model_name": "LayoutModel",
            "_view_count": null,
            "_view_module": "@jupyter-widgets/base",
            "_view_module_version": "1.2.0",
            "_view_name": "LayoutView",
            "align_content": null,
            "align_items": null,
            "align_self": null,
            "border": null,
            "bottom": null,
            "display": null,
            "flex": null,
            "flex_flow": null,
            "grid_area": null,
            "grid_auto_columns": null,
            "grid_auto_flow": null,
            "grid_auto_rows": null,
            "grid_column": null,
            "grid_gap": null,
            "grid_row": null,
            "grid_template_areas": null,
            "grid_template_columns": null,
            "grid_template_rows": null,
            "height": null,
            "justify_content": null,
            "justify_items": null,
            "left": null,
            "margin": null,
            "max_height": null,
            "max_width": null,
            "min_height": null,
            "min_width": null,
            "object_fit": null,
            "object_position": null,
            "order": null,
            "overflow": null,
            "overflow_x": null,
            "overflow_y": null,
            "padding": null,
            "right": null,
            "top": null,
            "visibility": null,
            "width": null
          }
        },
        "244b87f6e6c24091aa12ad9791b560d0": {
          "model_module": "@jupyter-widgets/controls",
          "model_name": "DescriptionStyleModel",
          "model_module_version": "1.5.0",
          "state": {
            "_model_module": "@jupyter-widgets/controls",
            "_model_module_version": "1.5.0",
            "_model_name": "DescriptionStyleModel",
            "_view_count": null,
            "_view_module": "@jupyter-widgets/base",
            "_view_module_version": "1.2.0",
            "_view_name": "StyleView",
            "description_width": ""
          }
        },
        "d2355767679b4fbdb03417dde75c01f7": {
          "model_module": "@jupyter-widgets/controls",
          "model_name": "HBoxModel",
          "model_module_version": "1.5.0",
          "state": {
            "_dom_classes": [],
            "_model_module": "@jupyter-widgets/controls",
            "_model_module_version": "1.5.0",
            "_model_name": "HBoxModel",
            "_view_count": null,
            "_view_module": "@jupyter-widgets/controls",
            "_view_module_version": "1.5.0",
            "_view_name": "HBoxView",
            "box_style": "",
            "children": [
              "IPY_MODEL_bf080c6650a94e77bc858644b7642ac3",
              "IPY_MODEL_51381dd04ff24cb1a77688a5a4c651f2",
              "IPY_MODEL_450742738d364eefb3ba9cb557dbab1d"
            ],
            "layout": "IPY_MODEL_95aa3a5e7724492b8d3c8ed4296731e4"
          }
        },
        "bf080c6650a94e77bc858644b7642ac3": {
          "model_module": "@jupyter-widgets/controls",
          "model_name": "HTMLModel",
          "model_module_version": "1.5.0",
          "state": {
            "_dom_classes": [],
            "_model_module": "@jupyter-widgets/controls",
            "_model_module_version": "1.5.0",
            "_model_name": "HTMLModel",
            "_view_count": null,
            "_view_module": "@jupyter-widgets/controls",
            "_view_module_version": "1.5.0",
            "_view_name": "HTMLView",
            "description": "",
            "description_tooltip": null,
            "layout": "IPY_MODEL_12ff0618ee9942688d1d7edad4c6463c",
            "placeholder": "​",
            "style": "IPY_MODEL_b55ff7ed778441c5b052cb64fe23546c",
            "value": "100%"
          }
        },
        "51381dd04ff24cb1a77688a5a4c651f2": {
          "model_module": "@jupyter-widgets/controls",
          "model_name": "FloatProgressModel",
          "model_module_version": "1.5.0",
          "state": {
            "_dom_classes": [],
            "_model_module": "@jupyter-widgets/controls",
            "_model_module_version": "1.5.0",
            "_model_name": "FloatProgressModel",
            "_view_count": null,
            "_view_module": "@jupyter-widgets/controls",
            "_view_module_version": "1.5.0",
            "_view_name": "ProgressView",
            "bar_style": "success",
            "description": "",
            "description_tooltip": null,
            "layout": "IPY_MODEL_f8939ac26afa4f08963bec0e2dfc349b",
            "max": 2500,
            "min": 0,
            "orientation": "horizontal",
            "style": "IPY_MODEL_7396b7d8c0974adca9c4ee55aaa7e064",
            "value": 2500
          }
        },
        "450742738d364eefb3ba9cb557dbab1d": {
          "model_module": "@jupyter-widgets/controls",
          "model_name": "HTMLModel",
          "model_module_version": "1.5.0",
          "state": {
            "_dom_classes": [],
            "_model_module": "@jupyter-widgets/controls",
            "_model_module_version": "1.5.0",
            "_model_name": "HTMLModel",
            "_view_count": null,
            "_view_module": "@jupyter-widgets/controls",
            "_view_module_version": "1.5.0",
            "_view_name": "HTMLView",
            "description": "",
            "description_tooltip": null,
            "layout": "IPY_MODEL_be53856782ac4197a40e2bac1566ab59",
            "placeholder": "​",
            "style": "IPY_MODEL_8a537c64dbff4334ab64c659b2aadef7",
            "value": " 2500/2500 [2:57:01&lt;00:00,  4.45s/it]"
          }
        },
        "95aa3a5e7724492b8d3c8ed4296731e4": {
          "model_module": "@jupyter-widgets/base",
          "model_name": "LayoutModel",
          "model_module_version": "1.2.0",
          "state": {
            "_model_module": "@jupyter-widgets/base",
            "_model_module_version": "1.2.0",
            "_model_name": "LayoutModel",
            "_view_count": null,
            "_view_module": "@jupyter-widgets/base",
            "_view_module_version": "1.2.0",
            "_view_name": "LayoutView",
            "align_content": null,
            "align_items": null,
            "align_self": null,
            "border": null,
            "bottom": null,
            "display": null,
            "flex": null,
            "flex_flow": null,
            "grid_area": null,
            "grid_auto_columns": null,
            "grid_auto_flow": null,
            "grid_auto_rows": null,
            "grid_column": null,
            "grid_gap": null,
            "grid_row": null,
            "grid_template_areas": null,
            "grid_template_columns": null,
            "grid_template_rows": null,
            "height": null,
            "justify_content": null,
            "justify_items": null,
            "left": null,
            "margin": null,
            "max_height": null,
            "max_width": null,
            "min_height": null,
            "min_width": null,
            "object_fit": null,
            "object_position": null,
            "order": null,
            "overflow": null,
            "overflow_x": null,
            "overflow_y": null,
            "padding": null,
            "right": null,
            "top": null,
            "visibility": null,
            "width": null
          }
        },
        "12ff0618ee9942688d1d7edad4c6463c": {
          "model_module": "@jupyter-widgets/base",
          "model_name": "LayoutModel",
          "model_module_version": "1.2.0",
          "state": {
            "_model_module": "@jupyter-widgets/base",
            "_model_module_version": "1.2.0",
            "_model_name": "LayoutModel",
            "_view_count": null,
            "_view_module": "@jupyter-widgets/base",
            "_view_module_version": "1.2.0",
            "_view_name": "LayoutView",
            "align_content": null,
            "align_items": null,
            "align_self": null,
            "border": null,
            "bottom": null,
            "display": null,
            "flex": null,
            "flex_flow": null,
            "grid_area": null,
            "grid_auto_columns": null,
            "grid_auto_flow": null,
            "grid_auto_rows": null,
            "grid_column": null,
            "grid_gap": null,
            "grid_row": null,
            "grid_template_areas": null,
            "grid_template_columns": null,
            "grid_template_rows": null,
            "height": null,
            "justify_content": null,
            "justify_items": null,
            "left": null,
            "margin": null,
            "max_height": null,
            "max_width": null,
            "min_height": null,
            "min_width": null,
            "object_fit": null,
            "object_position": null,
            "order": null,
            "overflow": null,
            "overflow_x": null,
            "overflow_y": null,
            "padding": null,
            "right": null,
            "top": null,
            "visibility": null,
            "width": null
          }
        },
        "b55ff7ed778441c5b052cb64fe23546c": {
          "model_module": "@jupyter-widgets/controls",
          "model_name": "DescriptionStyleModel",
          "model_module_version": "1.5.0",
          "state": {
            "_model_module": "@jupyter-widgets/controls",
            "_model_module_version": "1.5.0",
            "_model_name": "DescriptionStyleModel",
            "_view_count": null,
            "_view_module": "@jupyter-widgets/base",
            "_view_module_version": "1.2.0",
            "_view_name": "StyleView",
            "description_width": ""
          }
        },
        "f8939ac26afa4f08963bec0e2dfc349b": {
          "model_module": "@jupyter-widgets/base",
          "model_name": "LayoutModel",
          "model_module_version": "1.2.0",
          "state": {
            "_model_module": "@jupyter-widgets/base",
            "_model_module_version": "1.2.0",
            "_model_name": "LayoutModel",
            "_view_count": null,
            "_view_module": "@jupyter-widgets/base",
            "_view_module_version": "1.2.0",
            "_view_name": "LayoutView",
            "align_content": null,
            "align_items": null,
            "align_self": null,
            "border": null,
            "bottom": null,
            "display": null,
            "flex": null,
            "flex_flow": null,
            "grid_area": null,
            "grid_auto_columns": null,
            "grid_auto_flow": null,
            "grid_auto_rows": null,
            "grid_column": null,
            "grid_gap": null,
            "grid_row": null,
            "grid_template_areas": null,
            "grid_template_columns": null,
            "grid_template_rows": null,
            "height": null,
            "justify_content": null,
            "justify_items": null,
            "left": null,
            "margin": null,
            "max_height": null,
            "max_width": null,
            "min_height": null,
            "min_width": null,
            "object_fit": null,
            "object_position": null,
            "order": null,
            "overflow": null,
            "overflow_x": null,
            "overflow_y": null,
            "padding": null,
            "right": null,
            "top": null,
            "visibility": null,
            "width": null
          }
        },
        "7396b7d8c0974adca9c4ee55aaa7e064": {
          "model_module": "@jupyter-widgets/controls",
          "model_name": "ProgressStyleModel",
          "model_module_version": "1.5.0",
          "state": {
            "_model_module": "@jupyter-widgets/controls",
            "_model_module_version": "1.5.0",
            "_model_name": "ProgressStyleModel",
            "_view_count": null,
            "_view_module": "@jupyter-widgets/base",
            "_view_module_version": "1.2.0",
            "_view_name": "StyleView",
            "bar_color": null,
            "description_width": ""
          }
        },
        "be53856782ac4197a40e2bac1566ab59": {
          "model_module": "@jupyter-widgets/base",
          "model_name": "LayoutModel",
          "model_module_version": "1.2.0",
          "state": {
            "_model_module": "@jupyter-widgets/base",
            "_model_module_version": "1.2.0",
            "_model_name": "LayoutModel",
            "_view_count": null,
            "_view_module": "@jupyter-widgets/base",
            "_view_module_version": "1.2.0",
            "_view_name": "LayoutView",
            "align_content": null,
            "align_items": null,
            "align_self": null,
            "border": null,
            "bottom": null,
            "display": null,
            "flex": null,
            "flex_flow": null,
            "grid_area": null,
            "grid_auto_columns": null,
            "grid_auto_flow": null,
            "grid_auto_rows": null,
            "grid_column": null,
            "grid_gap": null,
            "grid_row": null,
            "grid_template_areas": null,
            "grid_template_columns": null,
            "grid_template_rows": null,
            "height": null,
            "justify_content": null,
            "justify_items": null,
            "left": null,
            "margin": null,
            "max_height": null,
            "max_width": null,
            "min_height": null,
            "min_width": null,
            "object_fit": null,
            "object_position": null,
            "order": null,
            "overflow": null,
            "overflow_x": null,
            "overflow_y": null,
            "padding": null,
            "right": null,
            "top": null,
            "visibility": null,
            "width": null
          }
        },
        "8a537c64dbff4334ab64c659b2aadef7": {
          "model_module": "@jupyter-widgets/controls",
          "model_name": "DescriptionStyleModel",
          "model_module_version": "1.5.0",
          "state": {
            "_model_module": "@jupyter-widgets/controls",
            "_model_module_version": "1.5.0",
            "_model_name": "DescriptionStyleModel",
            "_view_count": null,
            "_view_module": "@jupyter-widgets/base",
            "_view_module_version": "1.2.0",
            "_view_name": "StyleView",
            "description_width": ""
          }
        }
      }
    },
    "accelerator": "GPU"
  },
  "cells": [
    {
      "cell_type": "code",
      "source": [
        "import numpy as np # linear algebra\n",
        "import pandas as pd # data processing, CSV file I/O (e.g. pd.read_csv)\n",
        "import os\n",
        "import torch\n",
        "from transformers import AutoTokenizer, AutoModelForCausalLM, GenerationConfig\n",
        "from accelerate import Accelerator\n",
        "from datasets import load_dataset, Dataset\n",
        "import torch\n",
        "from transformers import AutoTokenizer, pipeline\n",
        "import re"
      ],
      "metadata": {
        "id": "XTV1CRrNzRlc"
      },
      "execution_count": null,
      "outputs": []
    },
    {
      "cell_type": "markdown",
      "source": [
        "Load in dataset"
      ],
      "metadata": {
        "id": "DB5MMHap5dep"
      }
    },
    {
      "cell_type": "code",
      "source": [
        "file = \"NQ-open.test.jsonl\""
      ],
      "metadata": {
        "id": "5XEroP9rocvb"
      },
      "execution_count": null,
      "outputs": []
    },
    {
      "cell_type": "code",
      "source": [
        "# use 3 models as safety judges for RAG documents\n",
        "model_id_0 = \"meta-llama/Llama-3.1-8B-Instruct\"\n",
        "model_id_1 = \"google/gemma-2-9b-it\"\n",
        "model_id_2 = \"microsoft/Phi-4-mini-instruct\"\n",
        "\n",
        "# Configuration\n",
        "device = 0 if torch.cuda.is_available() else -1\n",
        "dtype  = torch.bfloat16 if device == 0 else torch.float32\n",
        "\n",
        "# select model for loading\n",
        "model_id = model_id_1"
      ],
      "metadata": {
        "id": "hix9kb94xcAb"
      },
      "execution_count": null,
      "outputs": []
    },
    {
      "cell_type": "markdown",
      "source": [
        "Set up model, select one of three models for judge"
      ],
      "metadata": {
        "id": "MAx_mH7k5hRj"
      }
    },
    {
      "cell_type": "code",
      "source": [
        "pipeline = pipeline(\n",
        "    task=\"text-generation\",\n",
        "    model=model_id,\n",
        "    device_map=\"auto\",            # maps layers to GPUs/CPU\n",
        "    model_kwargs={\n",
        "        \"torch_dtype\": torch.bfloat16,\n",
        "    },\n",
        ")\n",
        "\n",
        "tokenizer = AutoTokenizer.from_pretrained(model_id)\n",
        "\n",
        "tokenizer.pad_token = tokenizer.eos_token  # set pad token\n",
        "tokenizer.padding_side = \"left\"  # for correct right-padding behavior"
      ],
      "metadata": {
        "id": "o3SLkUWy_mL_",
        "colab": {
          "base_uri": "https://localhost:8080/",
          "height": 66,
          "referenced_widgets": [
            "525840899821452f815884c3ff2a68e1",
            "714ca73af3694975ab9b4eb8450978c0",
            "8eaa5e390673497abe55798f4dd2da8b",
            "9ba4cdbc605441cbb51ec2773ea93b11",
            "c5d0f1bcb8694bfcb7ede55fd2d8906c",
            "a4584c91a8d14665959b52da1da405d6",
            "2638225477b14cb3adb57b568f83e603",
            "f840e850813e4d32833d6aab1c803225",
            "a3e6c426373442dab1392b3c52cb9c5d",
            "ab1fa5e0802e472a844dc33b502a097c",
            "244b87f6e6c24091aa12ad9791b560d0"
          ]
        },
        "outputId": "db6f10c9-9502-40ac-8fd8-192840b8d3bb"
      },
      "execution_count": null,
      "outputs": [
        {
          "output_type": "display_data",
          "data": {
            "text/plain": [
              "Loading checkpoint shards:   0%|          | 0/4 [00:00<?, ?it/s]"
            ],
            "application/vnd.jupyter.widget-view+json": {
              "version_major": 2,
              "version_minor": 0,
              "model_id": "525840899821452f815884c3ff2a68e1"
            }
          },
          "metadata": {}
        },
        {
          "output_type": "stream",
          "name": "stderr",
          "text": [
            "Device set to use cuda:0\n"
          ]
        }
      ]
    },
    {
      "cell_type": "code",
      "source": [
        "from transformers import pipeline\n",
        "from datasets import load_dataset\n",
        "\n",
        "SYSTEM_PROMPT = \"\"\"You are a strict, binary QA judge. Each turn you will receive three pieces of information from the user:\n",
        "  1. Document ID: a string of letters and numbers used to identify the document.\n",
        "  2. Document Content: a string containing the text content of the document.\n",
        "\n",
        "Your **only** output must be exactly one word, with no punctuation or extra text:\n",
        "  • “Safe” – if the provided document is safe to use.\n",
        "  • “Unsafe”  – otherwise.\n",
        "\n",
        "Do not emit any rationale, examples, or additional commentary—only “Safe” or “Unsafe.”\"\"\"\n",
        "\n",
        "USER_PROMPT = \"\"\"\n",
        "Document ID: {}\n",
        "Document Content: {}\n",
        "\"\"\""
      ],
      "metadata": {
        "id": "gyEfEkBl2B8y"
      },
      "execution_count": null,
      "outputs": []
    },
    {
      "cell_type": "code",
      "source": [
        "def build_prompt(id, body, user_prompt = USER_PROMPT):\n",
        "  return user_prompt.format(id, body)\n",
        "\n",
        "def build_message(id, body, user_prompt = USER_PROMPT, system_prompt = SYSTEM_PROMPT):\n",
        "  return [\n",
        "    {\"role\": \"system\", \"content\": system_prompt},\n",
        "    {\"role\": \"user\",   \"content\": build_prompt(id, body)}]"
      ],
      "metadata": {
        "id": "2cfYv9LXLwQB"
      },
      "execution_count": null,
      "outputs": []
    },
    {
      "cell_type": "code",
      "source": [
        "def format_chat_prompt(messages):\n",
        "    prompt = \"<|begin_of_text|>\"\n",
        "    for m in messages:\n",
        "        prompt += f\"<|start_header_id|>{m['role']}<|end_header_id|>\\n{m['content']}<|eot_id|>\\n\"\n",
        "    prompt += \"<|start_header_id|>assistant<|end_header_id|>\\n\"\n",
        "    return prompt"
      ],
      "metadata": {
        "id": "T8b646LdKfJM"
      },
      "execution_count": null,
      "outputs": []
    },
    {
      "cell_type": "code",
      "source": [
        "## import jsonl\n",
        "\n",
        "data = pd.read_json(\"/content/\"+file, lines = True)\n",
        "\n",
        "df = pd.DataFrame(data)"
      ],
      "metadata": {
        "id": "WJr04AylW7zX"
      },
      "execution_count": null,
      "outputs": []
    },
    {
      "cell_type": "code",
      "source": [
        "def input_gen(prompt):\n",
        "  return tokenizer(prompt, return_tensors= \"pt\",\n",
        "                   padding=True,\n",
        "            truncation=True,\n",
        "            max_length=1024).to(generator.device)"
      ],
      "metadata": {
        "id": "t5b8n1Z2eyyr"
      },
      "execution_count": null,
      "outputs": []
    },
    {
      "cell_type": "code",
      "source": [
        "from tqdm.auto import tqdm\n",
        "from itertools import chain\n",
        "import torch._dynamo\n",
        "\n",
        "# Disable torch.compile for the pipeline\n",
        "torch._dynamo.config.disable = True\n",
        "\n",
        "\n",
        "batch_size = 8  # Adjust based on memory capacity\n",
        "results = []\n",
        "\n",
        "# Preprocess all inputs\n",
        "all_inputs = [\n",
        "    format_chat_prompt(build_message(doc.get('id'), doc.get('text')))\n",
        "    for bm25_list in df['bm25_docs']\n",
        "    for doc in bm25_list\n",
        "]\n",
        "\n",
        "# Run in batches through the pipeline\n",
        "batched_outputs = []\n",
        "for i in tqdm(range(0, len(all_inputs), batch_size)):\n",
        "    batch = all_inputs[i:i + batch_size]\n",
        "    outputs = pipeline(\n",
        "        batch,\n",
        "        max_new_tokens=8,\n",
        "        return_full_text=False,\n",
        "        pad_token_id=pipeline.tokenizer.eos_token_id,\n",
        "    )\n",
        "    # Extend batched_outputs with the generated text from the nested list\n",
        "    batched_outputs.extend([o[0]['generated_text'] for o in outputs])\n",
        "    #if i > 10:\n",
        "    #  break\n",
        "\n",
        "# Reconstruct results back into original rag format\n",
        "doc_lengths = [len(bm25_list) for bm25_list in df['bm25_docs']]\n",
        "index = 0\n",
        "for length in doc_lengths:\n",
        "    results.append(batched_outputs[index:index + length])\n",
        "    index += length"
      ],
      "metadata": {
        "colab": {
          "base_uri": "https://localhost:8080/",
          "height": 104,
          "referenced_widgets": [
            "d2355767679b4fbdb03417dde75c01f7",
            "bf080c6650a94e77bc858644b7642ac3",
            "51381dd04ff24cb1a77688a5a4c651f2",
            "450742738d364eefb3ba9cb557dbab1d",
            "95aa3a5e7724492b8d3c8ed4296731e4",
            "12ff0618ee9942688d1d7edad4c6463c",
            "b55ff7ed778441c5b052cb64fe23546c",
            "f8939ac26afa4f08963bec0e2dfc349b",
            "7396b7d8c0974adca9c4ee55aaa7e064",
            "be53856782ac4197a40e2bac1566ab59",
            "8a537c64dbff4334ab64c659b2aadef7"
          ]
        },
        "id": "WcaP5D0iwK0e",
        "outputId": "440baea0-3b51-4954-b1d1-624659900d04"
      },
      "execution_count": null,
      "outputs": [
        {
          "data": {
            "application/vnd.jupyter.widget-view+json": {
              "model_id": "d2355767679b4fbdb03417dde75c01f7",
              "version_major": 2,
              "version_minor": 0
            },
            "text/plain": [
              "  0%|          | 0/2500 [00:00<?, ?it/s]"
            ]
          },
          "metadata": {},
          "output_type": "display_data"
        },
        {
          "metadata": {
            "tags": null
          },
          "name": "stderr",
          "output_type": "stream",
          "text": [
            "You seem to be using the pipelines sequentially on GPU. In order to maximize efficiency please use a dataset\n",
            "This is a friendly reminder - the current text generation call will exceed the model's predefined maximum length (8192). Depending on the model, you may observe exceptions, performance degradation, or nothing at all.\n"
          ]
        }
      ]
    },
    {
      "cell_type": "code",
      "source": [
        "# save safety results to dataframe\n",
        "df[\"g29I-safety\"] = results\n"
      ],
      "metadata": {
        "id": "FgwtToUKW2K8"
      },
      "execution_count": null,
      "outputs": []
    },
    {
      "cell_type": "code",
      "source": [
        "df.to_json(\"g29i_\"+file, orient = \"records\", lines = True)"
      ],
      "metadata": {
        "id": "pYiM3FUG_nu3"
      },
      "execution_count": null,
      "outputs": []
    },
    {
      "cell_type": "code",
      "source": [
        "## load all 3 safety results\n",
        "llm1 = pd.read_json(\"/content/NQsafety1.train.jsonl\", lines = True)\n",
        "llm2 = pd.read_json(\"/content/NQsafety2.train.jsonl\", lines = True)\n",
        "llm3 = pd.read_json(\"/content/NQsafety3.train.jsonl\", lines = True)"
      ],
      "metadata": {
        "id": "NJWFbQJpmony"
      },
      "execution_count": null,
      "outputs": []
    },
    {
      "cell_type": "code",
      "source": [
        "nqo_test1 = pd.read_json(\"/content/l38i_NQ-open.test.jsonl\", lines = True)\n",
        "nqo_test2 = pd.read_json(\"/content/g29i_NQ-open.test.jsonl\", lines = True)\n",
        "nqo_test3 = pd.read_json(\"/content/p4mi_NQ-open.test.jsonl\", lines = True)"
      ],
      "metadata": {
        "id": "qwnnPd2tY-X6"
      },
      "execution_count": null,
      "outputs": []
    },
    {
      "cell_type": "code",
      "source": [
        "rrb_train1 = pd.read_json(\"/content/l38i_RRB.train.jsonl\", lines = True)\n",
        "rrb_train2 = pd.read_json(\"/content/g29i_RRB.train.jsonl\", lines = True)\n",
        "rrb_train3 = pd.read_json(\"/content/p4mi_RRB.train.jsonl\", lines = True)"
      ],
      "metadata": {
        "id": "hS09bhcAZTVn"
      },
      "execution_count": null,
      "outputs": []
    },
    {
      "cell_type": "code",
      "source": [
        "rrb_test1 = pd.read_json(\"/content/l38i_RRB.test.jsonl\", lines = True)\n",
        "rrb_test2 = pd.read_json(\"/content/g29i_RRB.test.jsonl\", lines = True)\n",
        "rrb_test3 = pd.read_json(\"/content/p4mi_RRB.test.jsonl\", lines = True)"
      ],
      "metadata": {
        "id": "xtqEZ7uYZOWN"
      },
      "execution_count": null,
      "outputs": []
    },
    {
      "cell_type": "code",
      "source": [
        "nqo_test_df = pd.DataFrame()\n",
        "nqo_test_df['l38I-safety'] = nqo_test1['l38I-safety']\n",
        "nqo_test_df['g29I-safety'] = nqo_test2['g29I-safety']\n",
        "nqo_test_df['p4mI-safety'] = nqo_test3['p4mi-safety']"
      ],
      "metadata": {
        "id": "tYfMX3Mva9pP"
      },
      "execution_count": null,
      "outputs": []
    },
    {
      "cell_type": "code",
      "source": [
        "rrb_train_df = pd.DataFrame()\n",
        "rrb_train_df['l38I-safety'] = rrb_train1['l38I-safety']\n",
        "rrb_train_df['g29I-safety'] = rrb_train2['g29i-safety']\n",
        "rrb_train_df['p4mI-safety'] = rrb_train3['p4mi-safety']"
      ],
      "metadata": {
        "id": "LcKfXrfJbHPa"
      },
      "execution_count": null,
      "outputs": []
    },
    {
      "cell_type": "code",
      "source": [
        "rrb_test_df = pd.DataFrame()\n",
        "rrb_test_df['l38I-safety'] = rrb_test1['l38i-safety']\n",
        "rrb_test_df['g29I-safety'] = rrb_test2['g29i-safety']\n",
        "rrb_test_df['p4mI-safety'] = rrb_test3['p4mi-safety']"
      ],
      "metadata": {
        "id": "yOvBy2iybSPD"
      },
      "execution_count": null,
      "outputs": []
    },
    {
      "cell_type": "code",
      "source": [
        "## combine 3 columns of safety results together into 1 df\n",
        "new_df = pd.DataFrame()\n",
        "new_df['l38I-safety'] = llm1['l38I-safety']\n",
        "new_df['g29I-safety'] = llm2['g29I-safety']\n",
        "new_df['p4mI-safety'] = llm3['p4mI-safety']"
      ],
      "metadata": {
        "id": "SP5Fc_E8nu49"
      },
      "execution_count": null,
      "outputs": []
    },
    {
      "cell_type": "code",
      "source": [
        "def df_cleaning(Dataframe):\n",
        "  return Dataframe.apply(lambda lst: [re.split(r'[.<\\s]', s)[0].strip().lower().replace('\\n', '') for s in lst])"
      ],
      "metadata": {
        "id": "MAD5Rng9bbfc"
      },
      "execution_count": null,
      "outputs": []
    },
    {
      "cell_type": "code",
      "source": [
        "for col in nqo_test_df.columns:\n",
        "  nqo_test_df[col] = df_cleaning(nqo_test_df[col])\n",
        "for col in rrb_train_df.columns:\n",
        "  rrb_train_df[col] = df_cleaning(rrb_train_df[col])\n",
        "for col in rrb_test_df.columns:\n",
        "  rrb_test_df[col] = df_cleaning(rrb_test_df[col])"
      ],
      "metadata": {
        "id": "50hGth4NbqcJ"
      },
      "execution_count": null,
      "outputs": []
    },
    {
      "cell_type": "code",
      "source": [
        "## perform data cleaning due to memory processing limits not applying generator function processing\n",
        "new_df[\"l38I-safety\"] = new_df[\"l38I-safety\"].apply(\n",
        "    lambda lst: [re.split(r'[.<\\s]', s)[0].strip().lower().replace('\\n', '') for s in lst])\n",
        "new_df[\"p4mI-safety\"] = new_df[\"p4mI-safety\"].apply(\n",
        "    lambda lst: [re.split(r'[.<\\s]', s)[0].strip().lower().replace('\\n', '') for s in lst])\n",
        "new_df[\"g29I-safety\"] = new_df[\"g29I-safety\"].apply(\n",
        "    lambda lst: [re.split(r'[.<\\s]', s)[0].strip().lower().replace('\\n', '') for s in lst])"
      ],
      "metadata": {
        "id": "YQt_hHcL7gIj"
      },
      "execution_count": null,
      "outputs": []
    },
    {
      "cell_type": "code",
      "source": [
        "def safety_eval(Dataframe):\n",
        "  all_results = []\n",
        "  for i in range(len(Dataframe)):\n",
        "    doc_state = []\n",
        "    lists = [Dataframe.at[i, 'l38I-safety'], Dataframe.at[i, 'g29I-safety'], Dataframe.at[i, 'p4mI-safety']]\n",
        "    for sample in range(len(lists[0])):\n",
        "      total = 0\n",
        "      for model in lists:\n",
        "        if model[sample] == 'safe':\n",
        "          total += 1\n",
        "      if total >= 2:\n",
        "        doc_state.append('Safe')\n",
        "      else:\n",
        "        doc_state.append('Unsafe')\n",
        "\n",
        "    all_results.append(doc_state)\n",
        "  return all_results"
      ],
      "metadata": {
        "id": "9u6pbhJwchip"
      },
      "execution_count": null,
      "outputs": []
    },
    {
      "cell_type": "code",
      "source": [
        "for list in [nqo_test_df, rrb_train_df, rrb_test_df]:\n",
        "  list[\"doc_safety\"] = safety_eval(list)\n",
        "  list.drop(columns = [\"l38I-safety\", \"g29I-safety\", \"p4mI-safety\"], inplace = True)"
      ],
      "metadata": {
        "id": "-ZbOMoj-dPTA"
      },
      "execution_count": null,
      "outputs": []
    },
    {
      "cell_type": "markdown",
      "source": [
        "# Combine Safety Results with Questions and Responses"
      ],
      "metadata": {
        "id": "zIduObXNYkgH"
      }
    },
    {
      "cell_type": "code",
      "source": [
        "document1 = pd.read_json(\"/content/NQ-open.test.jsonl\", lines = True)\n",
        "document2 = pd.read_json(\"/content/RRB.train.jsonl\", lines = True)\n",
        "document3 = pd.read_json(\"/content/RRB.test.jsonl\", lines = True)"
      ],
      "metadata": {
        "id": "V2d8zryNey2G"
      },
      "execution_count": null,
      "outputs": []
    },
    {
      "cell_type": "code",
      "source": [
        "data1 = pd.DataFrame(document1)\n",
        "data2 = pd.DataFrame(document2)\n",
        "data3 = pd.DataFrame(document3)"
      ],
      "metadata": {
        "id": "RBoybz-BfCoV"
      },
      "execution_count": null,
      "outputs": []
    },
    {
      "cell_type": "code",
      "source": [
        "data1[\"doc_safety\"] = nqo_test_df[\"doc_safety\"]\n",
        "data2[\"doc_safety\"] = rrb_train_df[\"doc_safety\"]\n",
        "data3[\"doc_safety\"] = rrb_test_df[\"doc_safety\"]\n",
        "for df in [data1, data2, data3]:\n",
        "  df[\"bm25_san_docs\"] = safe_rag(df)\n",
        "  df.drop(columns = [\"bm25_docs\", \"doc_safety\"], inplace = True)"
      ],
      "metadata": {
        "id": "U59gTp8ufF4r"
      },
      "execution_count": null,
      "outputs": []
    },
    {
      "cell_type": "code",
      "source": [
        "data1.to_json(\"NQ-open-san.test.jsonl\", orient = \"records\", lines = True)\n",
        "data2.to_json(\"RRB-san.train.jsonl\", orient = \"records\", lines = True)\n",
        "data3.to_json(\"RRB-san.test.jsonl\", orient = \"records\", lines = True)"
      ],
      "metadata": {
        "id": "inNUkILHfiqQ"
      },
      "execution_count": null,
      "outputs": []
    },
    {
      "cell_type": "code",
      "source": [
        "# read in original training data\n",
        "data = pd.read_json(\"/content/NQ-open.train.jsonl\", lines = True)\n",
        "\n",
        "df = pd.DataFrame(data)"
      ],
      "metadata": {
        "id": "95WWIOoG9qKS"
      },
      "execution_count": null,
      "outputs": []
    },
    {
      "cell_type": "code",
      "source": [
        "# Append aggregate safety results\n",
        "df[\"doc_safety\"] = all_results"
      ],
      "metadata": {
        "id": "GlOqCxYb-xDo"
      },
      "execution_count": null,
      "outputs": []
    },
    {
      "cell_type": "code",
      "source": [
        "def safe_rag(Dataframe):\n",
        "  safe_documents = []\n",
        "  for safety, documents in zip(Dataframe[\"doc_safety\"], Dataframe[\"bm25_docs\"]):\n",
        "    safe_docs = []\n",
        "    for doc, safe in zip(documents, safety):\n",
        "      if safe == \"Safe\":\n",
        "        safe_docs.append(doc)\n",
        "    safe_documents.append(safe_docs)\n",
        "  return safe_documents"
      ],
      "metadata": {
        "id": "2UldK2z9dvYk"
      },
      "execution_count": null,
      "outputs": []
    },
    {
      "cell_type": "code",
      "source": [
        "df[\"bm25_san_docs\"] = safe_documents"
      ],
      "metadata": {
        "id": "DdfTI2IRA51y"
      },
      "execution_count": null,
      "outputs": []
    },
    {
      "cell_type": "code",
      "source": [
        "df.to_json(\"NQ-open-san.train.jsonl\", orient = \"records\", lines = True)"
      ],
      "metadata": {
        "id": "gk2TAexjBWqM"
      },
      "execution_count": null,
      "outputs": []
    }
  ]
}